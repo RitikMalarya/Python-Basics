{
 "cells": [
  {
   "cell_type": "code",
   "execution_count": 7,
   "id": "4b3d1819",
   "metadata": {},
   "outputs": [
    {
     "name": "stdout",
     "output_type": "stream",
     "text": [
      "150\n",
      "7150\n",
      "200\n"
     ]
    }
   ],
   "source": [
    "January = 2200\n",
    "February= 2350\n",
    "March = 2600\n",
    "April = 2130\n",
    "May = 2190\n",
    "\n",
    "\n",
    "# In Feb, how many dollars you spent extra compare to January?\n",
    "extra_dollar = February - January\n",
    "print(extra_dollar)\n",
    "\n",
    "# Find out your total expense in first quarter (first three months) of the year.\n",
    "total_exp = January + February + March\n",
    "print(total_exp)\n",
    "\n",
    "#You returned an item that you bought in a month of April and\n",
    "#got a refund of 200$. Make a correction to your monthly expense list\n",
    "#based on this\n",
    "April = 200\n",
    "print(April)"
   ]
  },
  {
   "cell_type": "code",
   "execution_count": 21,
   "id": "8335c4b1",
   "metadata": {
    "scrolled": true
   },
   "outputs": [
    {
     "name": "stdout",
     "output_type": "stream",
     "text": [
      "5\n",
      "['spider man', 'thor', 'hulk', 'iron man', 'captain america', 'black Panther']\n",
      "['spider man', 'thor', 'hulk', 'iron man', 'captain america']\n",
      "['spider man', 'thor', 'hulk', 'hulk', 'iron man', 'captain america']\n",
      "['spider man', 'doctor strange', 'hulk', 'iron man', 'captain america']\n"
     ]
    }
   ],
   "source": [
    "\n",
    "heros=['spider man','thor','hulk','iron man','captain america']\n",
    "\n",
    "\n",
    "#1. Length of the list\n",
    "print(len(heros))\n",
    "\n",
    "#2. Add 'black panther' at the end of this list\n",
    "heros.append('black Panther')\n",
    "print(heros)\n",
    "\n",
    "#3.You realize that you need to add 'black panther' after 'hulk',\n",
    "#so remove it from the list first and then add it after 'hulk'\n",
    "heros.pop()\n",
    "print(heros)\n",
    "heros.insert(3,'hulk')\n",
    "print(heros)\n",
    "\n",
    "\n",
    "#4. Now you don't like thor and hulk because they get angry easily :)\n",
    "#So you want to remove thor and hulk from list and replace them with doctor strange (because he is cool).\n",
    "#Do that with one line of code.\n",
    "heros[1:3]=['doctor strange']\n",
    "print(heros)"
   ]
  },
  {
   "cell_type": "code",
   "execution_count": null,
   "id": "33e6e001",
   "metadata": {},
   "outputs": [],
   "source": []
  },
  {
   "cell_type": "code",
   "execution_count": null,
   "id": "e26db2e4",
   "metadata": {},
   "outputs": [],
   "source": []
  }
 ],
 "metadata": {
  "kernelspec": {
   "display_name": "Python 3 (ipykernel)",
   "language": "python",
   "name": "python3"
  },
  "language_info": {
   "codemirror_mode": {
    "name": "ipython",
    "version": 3
   },
   "file_extension": ".py",
   "mimetype": "text/x-python",
   "name": "python",
   "nbconvert_exporter": "python",
   "pygments_lexer": "ipython3",
   "version": "3.9.13"
  }
 },
 "nbformat": 4,
 "nbformat_minor": 5
}
