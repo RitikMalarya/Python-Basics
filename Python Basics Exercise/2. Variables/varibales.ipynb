{
 "cells": [
  {
   "cell_type": "code",
   "execution_count": 4,
   "id": "b9e3f133",
   "metadata": {},
   "outputs": [],
   "source": [
    "#break = 5\n",
    "# Continue break are reverser keyword "
   ]
  },
  {
   "cell_type": "code",
   "execution_count": 6,
   "id": "357e7544",
   "metadata": {},
   "outputs": [
    {
     "name": "stdout",
     "output_type": "stream",
     "text": [
      "23\n"
     ]
    }
   ],
   "source": [
    "birth_year = 2000\n",
    "Current_year = 2023\n",
    "my_age = Current_year - birth_year\n",
    "print(my_age)"
   ]
  },
  {
   "cell_type": "code",
   "execution_count": null,
   "id": "5a674910",
   "metadata": {},
   "outputs": [],
   "source": []
  }
 ],
 "metadata": {
  "kernelspec": {
   "display_name": "Python 3 (ipykernel)",
   "language": "python",
   "name": "python3"
  },
  "language_info": {
   "codemirror_mode": {
    "name": "ipython",
    "version": 3
   },
   "file_extension": ".py",
   "mimetype": "text/x-python",
   "name": "python",
   "nbconvert_exporter": "python",
   "pygments_lexer": "ipython3",
   "version": "3.9.13"
  }
 },
 "nbformat": 4,
 "nbformat_minor": 5
}
