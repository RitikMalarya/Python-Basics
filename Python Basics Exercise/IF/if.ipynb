{
 "cells": [
  {
   "cell_type": "code",
   "execution_count": 1,
   "id": "df2cbb39",
   "metadata": {},
   "outputs": [
    {
     "name": "stdout",
     "output_type": "stream",
     "text": [
      "Enter the City name: lahore\n",
      "lahore  belongs to Pakistan\n"
     ]
    }
   ],
   "source": [
    "#Write a program that asks user to enter a city name and it should tell which country the city belongs to\n",
    "india = [\"mumbai\", \"banglore\", \"chennai\", \"delhi\"]\n",
    "pakistan = [\"lahore\",\"karachi\",\"islamabad\"]\n",
    "bangladesh = [\"dhaka\", \"khulna\", \"rangpur\"]\n",
    "\n",
    "city = input(\"Enter the City name: \")\n",
    "\n",
    "if city in india:\n",
    "    print(city,\" Belongs to India Country\")\n",
    "elif city in pakistan:\n",
    "    print(city,\" belongs to Pakistan\")\n",
    "else:\n",
    "    print(city,\" belongs to Bangladesh\")"
   ]
  },
  {
   "cell_type": "code",
   "execution_count": 4,
   "id": "bea7ce05",
   "metadata": {},
   "outputs": [
    {
     "name": "stdout",
     "output_type": "stream",
     "text": [
      "Enter the first city name: mumbai\n",
      "Enter the second city name: lahore\n",
      "They don't belong to same country\n"
     ]
    }
   ],
   "source": [
    "#Write a program that asks user to enter two cities and it tells you\n",
    "#if they both are in same country or not. For example \n",
    "#if I enter mumbai and chennai, it will print \"Both cities are in India\" but \n",
    "#if I enter mumbai and dhaka it should print \"They don't belong to same country\"\n",
    "\n",
    "city1 = input(\"Enter the first city name: \")\n",
    "city2 = input(\"Enter the second city name: \")\n",
    "\n",
    "if city1 in india and city2 in india:\n",
    "    print(\"Both cities are in india\")\n",
    "elif city1 in pakistan and city2 in pakistan:\n",
    "    print(\"Both cities are in pakistan\")\n",
    "elif city1 in bangladesh and city2 in bangladesh:\n",
    "    print(\"Both cities are in bangladesh\")\n",
    "else:\n",
    "    print(\"They don't belong to same country\")"
   ]
  },
  {
   "cell_type": "code",
   "execution_count": 10,
   "id": "ab2925c8",
   "metadata": {},
   "outputs": [
    {
     "name": "stdout",
     "output_type": "stream",
     "text": [
      "88\n",
      "Sugar is low\n"
     ]
    }
   ],
   "source": [
    "#Write a python program that can tell you if your sugar is normal or not. Normal fasting level sugar range is 80 to 100.\n",
    "#Ask user to enter his fasting sugar level\n",
    "#If it is below 80 to 100 range then print that sugar is low\n",
    "#If it is above 100 then print that it is high otherwise print that it is normal\n",
    "\n",
    "sugar = int(input())\n",
    "if sugar>80 and sugar<100:\n",
    "    print(\"Sugar is low\")\n",
    "elif sugar> 100:\n",
    "    print(\"Sugar is high\")\n",
    "else:\n",
    "    print(\"Sugar is Normal\")"
   ]
  },
  {
   "cell_type": "code",
   "execution_count": null,
   "id": "c71fb98d",
   "metadata": {},
   "outputs": [],
   "source": []
  }
 ],
 "metadata": {
  "kernelspec": {
   "display_name": "Python 3 (ipykernel)",
   "language": "python",
   "name": "python3"
  },
  "language_info": {
   "codemirror_mode": {
    "name": "ipython",
    "version": 3
   },
   "file_extension": ".py",
   "mimetype": "text/x-python",
   "name": "python",
   "nbconvert_exporter": "python",
   "pygments_lexer": "ipython3",
   "version": "3.9.13"
  }
 },
 "nbformat": 4,
 "nbformat_minor": 5
}
