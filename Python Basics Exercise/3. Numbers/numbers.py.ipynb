{
 "cells": [
  {
   "cell_type": "code",
   "execution_count": 2,
   "id": "65f0fa73",
   "metadata": {},
   "outputs": [
    {
     "name": "stdout",
     "output_type": "stream",
     "text": [
      "4489.6\n"
     ]
    }
   ],
   "source": [
    "#You have a football field that is 92 meter long and 48.8 meter wide. Find out total area using python and print it.\n",
    "\n",
    "leng = 92\n",
    "wide = 48.8\n",
    "area = leng * wide\n",
    "print(round(area,2))"
   ]
  },
  {
   "cell_type": "code",
   "execution_count": 3,
   "id": "c3a78d74",
   "metadata": {},
   "outputs": [
    {
     "name": "stdout",
     "output_type": "stream",
     "text": [
      "6.59\n"
     ]
    }
   ],
   "source": [
    "#You bought 9 packets of potato chips from a store. Each packet costs 1.49 dollar and you gave shopkeeper 20 dollar\n",
    "#Find out using python, how many dollars is the shopkeeper going to give you back?\n",
    "\n",
    "give_back = 20-(9*1.49)\n",
    "print(give_back)"
   ]
  },
  {
   "cell_type": "code",
   "execution_count": 7,
   "id": "9de8b243",
   "metadata": {},
   "outputs": [
    {
     "name": "stdout",
     "output_type": "stream",
     "text": [
      "15125.0\n"
     ]
    }
   ],
   "source": [
    "#You want to replace tiles in your bathroom which is exactly square and 5.5 feet is its length. If tiles cost 500 rs persquarefeet,\n",
    "#how much will be the total cost to replace all tiles.\n",
    "#Calculate and print the cost using python (Hint: Use power operator ** to find area of a square)\n",
    "\n",
    "area = (5.5)**(2)\n",
    "print(area*500)\n"
   ]
  },
  {
   "cell_type": "code",
   "execution_count": 5,
   "id": "8f0607b8",
   "metadata": {},
   "outputs": [
    {
     "name": "stdout",
     "output_type": "stream",
     "text": [
      "0b10001\n"
     ]
    }
   ],
   "source": [
    "#Print binary representation of number 17\n",
    "print(bin(17))"
   ]
  },
  {
   "cell_type": "code",
   "execution_count": null,
   "id": "97506da8",
   "metadata": {},
   "outputs": [],
   "source": []
  }
 ],
 "metadata": {
  "kernelspec": {
   "display_name": "Python 3 (ipykernel)",
   "language": "python",
   "name": "python3"
  },
  "language_info": {
   "codemirror_mode": {
    "name": "ipython",
    "version": 3
   },
   "file_extension": ".py",
   "mimetype": "text/x-python",
   "name": "python",
   "nbconvert_exporter": "python",
   "pygments_lexer": "ipython3",
   "version": "3.9.13"
  }
 },
 "nbformat": 4,
 "nbformat_minor": 5
}
