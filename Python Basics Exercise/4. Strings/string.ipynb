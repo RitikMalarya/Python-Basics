{
 "cells": [
  {
   "cell_type": "code",
   "execution_count": 4,
   "id": "e3fb7b58",
   "metadata": {},
   "outputs": [
    {
     "name": "stdout",
     "output_type": "stream",
     "text": [
      " 21 Gandhi Nagar Gwalior India\n"
     ]
    }
   ],
   "source": [
    "#Create 3 variables to store street, city and country, now create address variable to store entire address.\n",
    "#Use two ways of creating this variable, one using + operator and the other using f-string. \n",
    "#Now Print the address in such a way that the street, city and country prints in a separate line\n",
    "\n",
    "store_street = \" 21 Gandhi Nagar\"\n",
    "city = \"Gwalior\"\n",
    "country = \"India\"\n",
    "print(store_street+\" \"+city +\" \"+country)\n"
   ]
  },
  {
   "cell_type": "code",
   "execution_count": 15,
   "id": "23076c22",
   "metadata": {},
   "outputs": [
    {
     "ename": "SyntaxError",
     "evalue": "f-string: invalid syntax (997097599.py, line 1)",
     "output_type": "error",
     "traceback": [
      "\u001b[1;36m  File \u001b[1;32m\"C:\\Users\\ritik\\AppData\\Local\\Temp\\ipykernel_26344\\997097599.py\"\u001b[1;36m, line \u001b[1;32m1\u001b[0m\n\u001b[1;33m    print(f\"{store stree}\\n {city}\\n{country}\")\u001b[0m\n\u001b[1;37m           ^\u001b[0m\n\u001b[1;31mSyntaxError\u001b[0m\u001b[1;31m:\u001b[0m f-string: invalid syntax\n"
     ]
    }
   ],
   "source": [
    "print(f\"{store stree}\\n {city}\\n{country}\")"
   ]
  },
  {
   "cell_type": "code",
   "execution_count": 8,
   "id": "53d34b02",
   "metadata": {},
   "outputs": [
    {
     "name": "stdout",
     "output_type": "stream",
     "text": [
      "revolves\n",
      "sun\n"
     ]
    }
   ],
   "source": [
    "#Create a variable to store the string \"Earth revolves around the sun\"\n",
    "#Print \"revolves\" using slice operator\n",
    "#Print \"sun\" using negative index\n",
    "\n",
    "s = \"Earth revolves around the sun\"\n",
    "print(s[6:14])\n",
    "print(s[26:])"
   ]
  },
  {
   "cell_type": "code",
   "execution_count": 11,
   "id": "fd233ab8",
   "metadata": {},
   "outputs": [
    {
     "name": "stdout",
     "output_type": "stream",
     "text": [
      "I eat 5 fruits and 3 vegetables in a day\n"
     ]
    }
   ],
   "source": [
    "#Create two variables to store how many fruits and vegetables you eat in a day. \n",
    "#Now Print \"I eat x veggies and y fruits daily\" where x and y presents vegetables and fruits that you eat everyday. \n",
    "#Use python f string for this.\n",
    "\n",
    "fruits = 5\n",
    "veggies = 3\n",
    "print(f\"I eat {fruits} fruits and {veggies} vegetables in a day\")"
   ]
  },
  {
   "cell_type": "code",
   "execution_count": 13,
   "id": "2e3341c2",
   "metadata": {},
   "outputs": [
    {
     "name": "stdout",
     "output_type": "stream",
     "text": [
      "maine 10 samosa khaye\n"
     ]
    }
   ],
   "source": [
    "#I have a string variable called s='maine 200 banana khaye'. This of course is a wrong statement, \n",
    "#the correct statement is 'maine 10 samosa khaye'\n",
    "#Replace incorrect words in original strong with new ones and print the new string. Also try to do this in one line.\n",
    "\n",
    "s = 'maine 200 banana khaye'\n",
    "s = s.replace('banana','samosa')\n",
    "s = s.replace('200','10')\n",
    "print(s)"
   ]
  },
  {
   "cell_type": "code",
   "execution_count": 14,
   "id": "d8a7fa1e",
   "metadata": {},
   "outputs": [
    {
     "name": "stdout",
     "output_type": "stream",
     "text": [
      "maine 10 samosa khaye\n"
     ]
    }
   ],
   "source": [
    "s = 'maine 200 banana khaye'\n",
    "s = s.replace('banana','samosa').replace('200','10')\n",
    "print(s)"
   ]
  },
  {
   "cell_type": "code",
   "execution_count": null,
   "id": "8221f25a",
   "metadata": {},
   "outputs": [],
   "source": []
  }
 ],
 "metadata": {
  "kernelspec": {
   "display_name": "Python 3 (ipykernel)",
   "language": "python",
   "name": "python3"
  },
  "language_info": {
   "codemirror_mode": {
    "name": "ipython",
    "version": 3
   },
   "file_extension": ".py",
   "mimetype": "text/x-python",
   "name": "python",
   "nbconvert_exporter": "python",
   "pygments_lexer": "ipython3",
   "version": "3.9.13"
  }
 },
 "nbformat": 4,
 "nbformat_minor": 5
}
